{
 "cells": [
  {
   "cell_type": "code",
   "execution_count": 162,
   "metadata": {},
   "outputs": [],
   "source": [
    "import numpy as np\n",
    "from matplotlib import pyplot as plt\n",
    "%matplotlib inline\n",
    "import torch\n",
    "from sklearn.datasets import load_boston"
   ]
  },
  {
   "cell_type": "code",
   "execution_count": 163,
   "metadata": {},
   "outputs": [],
   "source": [
    "boston=load_boston()"
   ]
  },
  {
   "cell_type": "code",
   "execution_count": 164,
   "metadata": {},
   "outputs": [
    {
     "data": {
      "text/plain": [
       "{'data': array([[6.3200e-03, 1.8000e+01, 2.3100e+00, ..., 1.5300e+01, 3.9690e+02,\n",
       "         4.9800e+00],\n",
       "        [2.7310e-02, 0.0000e+00, 7.0700e+00, ..., 1.7800e+01, 3.9690e+02,\n",
       "         9.1400e+00],\n",
       "        [2.7290e-02, 0.0000e+00, 7.0700e+00, ..., 1.7800e+01, 3.9283e+02,\n",
       "         4.0300e+00],\n",
       "        ...,\n",
       "        [6.0760e-02, 0.0000e+00, 1.1930e+01, ..., 2.1000e+01, 3.9690e+02,\n",
       "         5.6400e+00],\n",
       "        [1.0959e-01, 0.0000e+00, 1.1930e+01, ..., 2.1000e+01, 3.9345e+02,\n",
       "         6.4800e+00],\n",
       "        [4.7410e-02, 0.0000e+00, 1.1930e+01, ..., 2.1000e+01, 3.9690e+02,\n",
       "         7.8800e+00]]),\n",
       " 'target': array([24. , 21.6, 34.7, 33.4, 36.2, 28.7, 22.9, 27.1, 16.5, 18.9, 15. ,\n",
       "        18.9, 21.7, 20.4, 18.2, 19.9, 23.1, 17.5, 20.2, 18.2, 13.6, 19.6,\n",
       "        15.2, 14.5, 15.6, 13.9, 16.6, 14.8, 18.4, 21. , 12.7, 14.5, 13.2,\n",
       "        13.1, 13.5, 18.9, 20. , 21. , 24.7, 30.8, 34.9, 26.6, 25.3, 24.7,\n",
       "        21.2, 19.3, 20. , 16.6, 14.4, 19.4, 19.7, 20.5, 25. , 23.4, 18.9,\n",
       "        35.4, 24.7, 31.6, 23.3, 19.6, 18.7, 16. , 22.2, 25. , 33. , 23.5,\n",
       "        19.4, 22. , 17.4, 20.9, 24.2, 21.7, 22.8, 23.4, 24.1, 21.4, 20. ,\n",
       "        20.8, 21.2, 20.3, 28. , 23.9, 24.8, 22.9, 23.9, 26.6, 22.5, 22.2,\n",
       "        23.6, 28.7, 22.6, 22. , 22.9, 25. , 20.6, 28.4, 21.4, 38.7, 43.8,\n",
       "        33.2, 27.5, 26.5, 18.6, 19.3, 20.1, 19.5, 19.5, 20.4, 19.8, 19.4,\n",
       "        21.7, 22.8, 18.8, 18.7, 18.5, 18.3, 21.2, 19.2, 20.4, 19.3, 22. ,\n",
       "        20.3, 20.5, 17.3, 18.8, 21.4, 15.7, 16.2, 18. , 14.3, 19.2, 19.6,\n",
       "        23. , 18.4, 15.6, 18.1, 17.4, 17.1, 13.3, 17.8, 14. , 14.4, 13.4,\n",
       "        15.6, 11.8, 13.8, 15.6, 14.6, 17.8, 15.4, 21.5, 19.6, 15.3, 19.4,\n",
       "        17. , 15.6, 13.1, 41.3, 24.3, 23.3, 27. , 50. , 50. , 50. , 22.7,\n",
       "        25. , 50. , 23.8, 23.8, 22.3, 17.4, 19.1, 23.1, 23.6, 22.6, 29.4,\n",
       "        23.2, 24.6, 29.9, 37.2, 39.8, 36.2, 37.9, 32.5, 26.4, 29.6, 50. ,\n",
       "        32. , 29.8, 34.9, 37. , 30.5, 36.4, 31.1, 29.1, 50. , 33.3, 30.3,\n",
       "        34.6, 34.9, 32.9, 24.1, 42.3, 48.5, 50. , 22.6, 24.4, 22.5, 24.4,\n",
       "        20. , 21.7, 19.3, 22.4, 28.1, 23.7, 25. , 23.3, 28.7, 21.5, 23. ,\n",
       "        26.7, 21.7, 27.5, 30.1, 44.8, 50. , 37.6, 31.6, 46.7, 31.5, 24.3,\n",
       "        31.7, 41.7, 48.3, 29. , 24. , 25.1, 31.5, 23.7, 23.3, 22. , 20.1,\n",
       "        22.2, 23.7, 17.6, 18.5, 24.3, 20.5, 24.5, 26.2, 24.4, 24.8, 29.6,\n",
       "        42.8, 21.9, 20.9, 44. , 50. , 36. , 30.1, 33.8, 43.1, 48.8, 31. ,\n",
       "        36.5, 22.8, 30.7, 50. , 43.5, 20.7, 21.1, 25.2, 24.4, 35.2, 32.4,\n",
       "        32. , 33.2, 33.1, 29.1, 35.1, 45.4, 35.4, 46. , 50. , 32.2, 22. ,\n",
       "        20.1, 23.2, 22.3, 24.8, 28.5, 37.3, 27.9, 23.9, 21.7, 28.6, 27.1,\n",
       "        20.3, 22.5, 29. , 24.8, 22. , 26.4, 33.1, 36.1, 28.4, 33.4, 28.2,\n",
       "        22.8, 20.3, 16.1, 22.1, 19.4, 21.6, 23.8, 16.2, 17.8, 19.8, 23.1,\n",
       "        21. , 23.8, 23.1, 20.4, 18.5, 25. , 24.6, 23. , 22.2, 19.3, 22.6,\n",
       "        19.8, 17.1, 19.4, 22.2, 20.7, 21.1, 19.5, 18.5, 20.6, 19. , 18.7,\n",
       "        32.7, 16.5, 23.9, 31.2, 17.5, 17.2, 23.1, 24.5, 26.6, 22.9, 24.1,\n",
       "        18.6, 30.1, 18.2, 20.6, 17.8, 21.7, 22.7, 22.6, 25. , 19.9, 20.8,\n",
       "        16.8, 21.9, 27.5, 21.9, 23.1, 50. , 50. , 50. , 50. , 50. , 13.8,\n",
       "        13.8, 15. , 13.9, 13.3, 13.1, 10.2, 10.4, 10.9, 11.3, 12.3,  8.8,\n",
       "         7.2, 10.5,  7.4, 10.2, 11.5, 15.1, 23.2,  9.7, 13.8, 12.7, 13.1,\n",
       "        12.5,  8.5,  5. ,  6.3,  5.6,  7.2, 12.1,  8.3,  8.5,  5. , 11.9,\n",
       "        27.9, 17.2, 27.5, 15. , 17.2, 17.9, 16.3,  7. ,  7.2,  7.5, 10.4,\n",
       "         8.8,  8.4, 16.7, 14.2, 20.8, 13.4, 11.7,  8.3, 10.2, 10.9, 11. ,\n",
       "         9.5, 14.5, 14.1, 16.1, 14.3, 11.7, 13.4,  9.6,  8.7,  8.4, 12.8,\n",
       "        10.5, 17.1, 18.4, 15.4, 10.8, 11.8, 14.9, 12.6, 14.1, 13. , 13.4,\n",
       "        15.2, 16.1, 17.8, 14.9, 14.1, 12.7, 13.5, 14.9, 20. , 16.4, 17.7,\n",
       "        19.5, 20.2, 21.4, 19.9, 19. , 19.1, 19.1, 20.1, 19.9, 19.6, 23.2,\n",
       "        29.8, 13.8, 13.3, 16.7, 12. , 14.6, 21.4, 23. , 23.7, 25. , 21.8,\n",
       "        20.6, 21.2, 19.1, 20.6, 15.2,  7. ,  8.1, 13.6, 20.1, 21.8, 24.5,\n",
       "        23.1, 19.7, 18.3, 21.2, 17.5, 16.8, 22.4, 20.6, 23.9, 22. , 11.9]),\n",
       " 'feature_names': array(['CRIM', 'ZN', 'INDUS', 'CHAS', 'NOX', 'RM', 'AGE', 'DIS', 'RAD',\n",
       "        'TAX', 'PTRATIO', 'B', 'LSTAT'], dtype='<U7'),\n",
       " 'DESCR': \".. _boston_dataset:\\n\\nBoston house prices dataset\\n---------------------------\\n\\n**Data Set Characteristics:**  \\n\\n    :Number of Instances: 506 \\n\\n    :Number of Attributes: 13 numeric/categorical predictive. Median Value (attribute 14) is usually the target.\\n\\n    :Attribute Information (in order):\\n        - CRIM     per capita crime rate by town\\n        - ZN       proportion of residential land zoned for lots over 25,000 sq.ft.\\n        - INDUS    proportion of non-retail business acres per town\\n        - CHAS     Charles River dummy variable (= 1 if tract bounds river; 0 otherwise)\\n        - NOX      nitric oxides concentration (parts per 10 million)\\n        - RM       average number of rooms per dwelling\\n        - AGE      proportion of owner-occupied units built prior to 1940\\n        - DIS      weighted distances to five Boston employment centres\\n        - RAD      index of accessibility to radial highways\\n        - TAX      full-value property-tax rate per $10,000\\n        - PTRATIO  pupil-teacher ratio by town\\n        - B        1000(Bk - 0.63)^2 where Bk is the proportion of blacks by town\\n        - LSTAT    % lower status of the population\\n        - MEDV     Median value of owner-occupied homes in $1000's\\n\\n    :Missing Attribute Values: None\\n\\n    :Creator: Harrison, D. and Rubinfeld, D.L.\\n\\nThis is a copy of UCI ML housing dataset.\\nhttps://archive.ics.uci.edu/ml/machine-learning-databases/housing/\\n\\n\\nThis dataset was taken from the StatLib library which is maintained at Carnegie Mellon University.\\n\\nThe Boston house-price data of Harrison, D. and Rubinfeld, D.L. 'Hedonic\\nprices and the demand for clean air', J. Environ. Economics & Management,\\nvol.5, 81-102, 1978.   Used in Belsley, Kuh & Welsch, 'Regression diagnostics\\n...', Wiley, 1980.   N.B. Various transformations are used in the table on\\npages 244-261 of the latter.\\n\\nThe Boston house-price data has been used in many machine learning papers that address regression\\nproblems.   \\n     \\n.. topic:: References\\n\\n   - Belsley, Kuh & Welsch, 'Regression diagnostics: Identifying Influential Data and Sources of Collinearity', Wiley, 1980. 244-261.\\n   - Quinlan,R. (1993). Combining Instance-Based and Model-Based Learning. In Proceedings on the Tenth International Conference of Machine Learning, 236-243, University of Massachusetts, Amherst. Morgan Kaufmann.\\n\",\n",
       " 'filename': '/opt/anaconda3/lib/python3.6/site-packages/sklearn/datasets/data/boston_house_prices.csv'}"
      ]
     },
     "execution_count": 164,
     "metadata": {},
     "output_type": "execute_result"
    }
   ],
   "source": [
    "boston"
   ]
  },
  {
   "cell_type": "code",
   "execution_count": 165,
   "metadata": {},
   "outputs": [],
   "source": [
    "x_data=boston.data\n",
    "y_data=boston.target"
   ]
  },
  {
   "cell_type": "code",
   "execution_count": 166,
   "metadata": {},
   "outputs": [],
   "source": [
    "from sklearn.model_selection import train_test_split"
   ]
  },
  {
   "cell_type": "code",
   "execution_count": 167,
   "metadata": {},
   "outputs": [],
   "source": [
    "x_train,x_test,y_train,y_test=train_test_split(x_data,y_data,test_size=0.2)\n",
    "x=torch.from_numpy(x_train).type(torch.float32)\n",
    "y=torch.from_numpy(y_train).type(torch.float32)\n",
    "xt=torch.from_numpy(x_test).type(torch.float32)\n",
    "yt=torch.from_numpy(y_test).type(torch.float32)\n",
    "\n",
    "\n"
   ]
  },
  {
   "cell_type": "code",
   "execution_count": 168,
   "metadata": {},
   "outputs": [],
   "source": [
    "layers=[13,50,100,50,1]\n"
   ]
  },
  {
   "cell_type": "code",
   "execution_count": 169,
   "metadata": {},
   "outputs": [],
   "source": [
    "y=y.reshape(-1,1)\n",
    "yt=yt.reshape(-1,1)\n"
   ]
  },
  {
   "cell_type": "code",
   "execution_count": 170,
   "metadata": {},
   "outputs": [],
   "source": [
    "from torch import nn\n",
    "from torch.nn import functional as F"
   ]
  },
  {
   "cell_type": "code",
   "execution_count": 171,
   "metadata": {},
   "outputs": [],
   "source": [
    "model=nn.Sequential(nn.Linear(13,50),\n",
    "                    nn.ReLU(),\n",
    "                    nn.Linear(50,100),\n",
    "                    nn.Dropout(p=0.2),\n",
    "                    nn.ReLU(),\n",
    "                    nn.Linear(100,50),\n",
    "#                     nn.Dropout(p=0.3),\n",
    "                    nn.ReLU(),\n",
    "                    nn.Linear(50,1))"
   ]
  },
  {
   "cell_type": "code",
   "execution_count": 172,
   "metadata": {},
   "outputs": [],
   "source": [
    "params=model.parameters()\n",
    "optims=torch.optim.Adam(params,lr=0.03)"
   ]
  },
  {
   "cell_type": "code",
   "execution_count": 175,
   "metadata": {},
   "outputs": [
    {
     "name": "stdout",
     "output_type": "stream",
     "text": [
      "******************** Epoch : 0 ********************\n",
      "Train error :  tensor(12.3207, grad_fn=<MseLossBackward>)\n",
      "Test error :  tensor(12.3026, grad_fn=<MseLossBackward>)\n",
      "******************** Epoch : 100 ********************\n",
      "Train error :  tensor(12.9631, grad_fn=<MseLossBackward>)\n",
      "Test error :  tensor(12.3925, grad_fn=<MseLossBackward>)\n",
      "******************** Epoch : 200 ********************\n",
      "Train error :  tensor(11.4949, grad_fn=<MseLossBackward>)\n",
      "Test error :  tensor(10.9811, grad_fn=<MseLossBackward>)\n",
      "******************** Epoch : 300 ********************\n",
      "Train error :  tensor(18.6035, grad_fn=<MseLossBackward>)\n",
      "Test error :  tensor(15.7002, grad_fn=<MseLossBackward>)\n",
      "******************** Epoch : 400 ********************\n",
      "Train error :  tensor(17.9869, grad_fn=<MseLossBackward>)\n",
      "Test error :  tensor(27.4117, grad_fn=<MseLossBackward>)\n",
      "******************** Epoch : 500 ********************\n",
      "Train error :  tensor(16.0989, grad_fn=<MseLossBackward>)\n",
      "Test error :  tensor(13.1381, grad_fn=<MseLossBackward>)\n",
      "******************** Epoch : 600 ********************\n",
      "Train error :  tensor(19.8573, grad_fn=<MseLossBackward>)\n",
      "Test error :  tensor(14.0238, grad_fn=<MseLossBackward>)\n",
      "******************** Epoch : 700 ********************\n",
      "Train error :  tensor(20.0697, grad_fn=<MseLossBackward>)\n",
      "Test error :  tensor(20.7992, grad_fn=<MseLossBackward>)\n",
      "******************** Epoch : 800 ********************\n",
      "Train error :  tensor(14.0742, grad_fn=<MseLossBackward>)\n",
      "Test error :  tensor(9.4338, grad_fn=<MseLossBackward>)\n",
      "******************** Epoch : 900 ********************\n",
      "Train error :  tensor(17.4535, grad_fn=<MseLossBackward>)\n",
      "Test error :  tensor(10.6053, grad_fn=<MseLossBackward>)\n",
      "******************** Epoch : 1000 ********************\n",
      "Train error :  tensor(17.7162, grad_fn=<MseLossBackward>)\n",
      "Test error :  tensor(12.1971, grad_fn=<MseLossBackward>)\n",
      "******************** Epoch : 1100 ********************\n",
      "Train error :  tensor(15.7990, grad_fn=<MseLossBackward>)\n",
      "Test error :  tensor(12.3762, grad_fn=<MseLossBackward>)\n",
      "******************** Epoch : 1200 ********************\n",
      "Train error :  tensor(16.2711, grad_fn=<MseLossBackward>)\n",
      "Test error :  tensor(15.5700, grad_fn=<MseLossBackward>)\n",
      "******************** Epoch : 1300 ********************\n",
      "Train error :  tensor(20.4838, grad_fn=<MseLossBackward>)\n",
      "Test error :  tensor(13.0739, grad_fn=<MseLossBackward>)\n",
      "******************** Epoch : 1400 ********************\n",
      "Train error :  tensor(16.1354, grad_fn=<MseLossBackward>)\n",
      "Test error :  tensor(14.1191, grad_fn=<MseLossBackward>)\n",
      "******************** Epoch : 1500 ********************\n",
      "Train error :  tensor(19.6909, grad_fn=<MseLossBackward>)\n",
      "Test error :  tensor(12.4118, grad_fn=<MseLossBackward>)\n",
      "******************** Epoch : 1600 ********************\n",
      "Train error :  tensor(17.4396, grad_fn=<MseLossBackward>)\n",
      "Test error :  tensor(14.5950, grad_fn=<MseLossBackward>)\n",
      "******************** Epoch : 1700 ********************\n",
      "Train error :  tensor(22.1348, grad_fn=<MseLossBackward>)\n",
      "Test error :  tensor(11.0861, grad_fn=<MseLossBackward>)\n",
      "******************** Epoch : 1800 ********************\n",
      "Train error :  tensor(16.9327, grad_fn=<MseLossBackward>)\n",
      "Test error :  tensor(13.1872, grad_fn=<MseLossBackward>)\n",
      "******************** Epoch : 1900 ********************\n",
      "Train error :  tensor(15.3691, grad_fn=<MseLossBackward>)\n",
      "Test error :  tensor(11.9286, grad_fn=<MseLossBackward>)\n",
      "******************** Epoch : 2000 ********************\n",
      "Train error :  tensor(15.2415, grad_fn=<MseLossBackward>)\n",
      "Test error :  tensor(13.5613, grad_fn=<MseLossBackward>)\n",
      "******************** Epoch : 2100 ********************\n",
      "Train error :  tensor(18.8875, grad_fn=<MseLossBackward>)\n",
      "Test error :  tensor(11.7012, grad_fn=<MseLossBackward>)\n",
      "******************** Epoch : 2200 ********************\n",
      "Train error :  tensor(15.3510, grad_fn=<MseLossBackward>)\n",
      "Test error :  tensor(10.6424, grad_fn=<MseLossBackward>)\n"
     ]
    }
   ],
   "source": [
    "epochs=2300;\n",
    "train_err=[]\n",
    "test_err=[]\n",
    "for i in range(epochs):\n",
    "    yp=model(x)\n",
    "    error=F.mse_loss(yp,y)\n",
    "    optims.zero_grad()\n",
    "    error.backward()\n",
    "    optims.step()\n",
    "    if(i%100==0):\n",
    "        print(\"*\"*20,\"Epoch :\",i,\"*\"*20)\n",
    "        print(\"Train error : \",error)\n",
    "        train_err.append(float(error))\n",
    "        ytp=model(xt)\n",
    "        errort=F.mse_loss(ytp,yt)\n",
    "        test_err.append(float(errort))\n",
    "        print(\"Test error : \",errort)\n",
    "        \n",
    "        \n",
    "    \n",
    "    \n",
    "    \n",
    "    \n",
    "    "
   ]
  },
  {
   "cell_type": "code",
   "execution_count": 176,
   "metadata": {},
   "outputs": [
    {
     "data": {
      "text/plain": [
       "<matplotlib.legend.Legend at 0x7f7766d65748>"
      ]
     },
     "execution_count": 176,
     "metadata": {},
     "output_type": "execute_result"
    },
    {
     "data": {
      "image/png": "[encoded data removed]",
      "text/plain": [
       "<Figure size 432x288 with 1 Axes>"
      ]
     },
     "metadata": {
      "needs_background": "light"
     },
     "output_type": "display_data"
    }
   ],
   "source": [
    "plt.plot(train_err[1:])\n",
    "plt.plot(test_err[1:])\n",
    "plt.legend([\"Train error\",\"Test error\"])"
   ]
  },
  {
   "cell_type": "code",
   "execution_count": 79,
   "metadata": {},
   "outputs": [
    {
     "data": {
      "text/plain": [
       "tensor([[ 6.0977],\n",
       "        [ 7.7939],\n",
       "        [ 6.1753],\n",
       "        [ 6.5567],\n",
       "        [ 8.3024],\n",
       "        [ 8.3444],\n",
       "        [ 6.1913],\n",
       "        [ 7.7617],\n",
       "        [ 6.1150],\n",
       "        [ 5.5887],\n",
       "        [ 5.9834],\n",
       "        [ 9.1315],\n",
       "        [ 6.3735],\n",
       "        [ 9.5358],\n",
       "        [ 7.3552],\n",
       "        [11.5366],\n",
       "        [ 5.9263],\n",
       "        [ 7.4767],\n",
       "        [ 9.1084],\n",
       "        [ 7.6297],\n",
       "        [ 4.8580],\n",
       "        [ 3.6328],\n",
       "        [ 6.2685],\n",
       "        [ 5.5175],\n",
       "        [ 7.6828],\n",
       "        [ 8.3445],\n",
       "        [ 4.2389],\n",
       "        [ 5.4790],\n",
       "        [ 5.3891],\n",
       "        [ 5.8049],\n",
       "        [ 6.7437],\n",
       "        [ 8.0393],\n",
       "        [ 7.3823],\n",
       "        [ 8.2403],\n",
       "        [ 6.6207],\n",
       "        [ 7.5701],\n",
       "        [ 7.7720],\n",
       "        [11.5642],\n",
       "        [ 7.8890],\n",
       "        [11.0151],\n",
       "        [ 5.6110],\n",
       "        [ 7.8506],\n",
       "        [ 4.3733],\n",
       "        [ 6.2871],\n",
       "        [ 6.0373],\n",
       "        [ 5.9554],\n",
       "        [ 5.5330],\n",
       "        [ 7.8468],\n",
       "        [ 5.7755],\n",
       "        [ 6.4883],\n",
       "        [10.0596],\n",
       "        [ 8.0191],\n",
       "        [ 6.4459],\n",
       "        [ 4.9309],\n",
       "        [ 4.4663],\n",
       "        [ 5.9842],\n",
       "        [ 9.5247],\n",
       "        [ 3.6426],\n",
       "        [ 7.5416],\n",
       "        [10.9996],\n",
       "        [ 5.0684],\n",
       "        [ 9.4390],\n",
       "        [11.4791],\n",
       "        [ 7.6602],\n",
       "        [ 5.8685],\n",
       "        [ 4.6552],\n",
       "        [ 7.4227],\n",
       "        [ 8.3054],\n",
       "        [ 6.2362],\n",
       "        [ 5.7468],\n",
       "        [ 8.2698],\n",
       "        [11.5436],\n",
       "        [ 6.9211],\n",
       "        [11.1506],\n",
       "        [ 7.3861],\n",
       "        [ 6.4606],\n",
       "        [11.5412],\n",
       "        [ 6.0754],\n",
       "        [ 8.0444],\n",
       "        [ 4.0033],\n",
       "        [ 8.2522],\n",
       "        [ 4.5340],\n",
       "        [ 4.8960],\n",
       "        [ 9.2358],\n",
       "        [10.9879],\n",
       "        [11.2227],\n",
       "        [ 8.0309],\n",
       "        [ 6.1353],\n",
       "        [ 5.8591],\n",
       "        [ 6.2240],\n",
       "        [ 7.7412],\n",
       "        [ 4.3710],\n",
       "        [11.5373],\n",
       "        [ 5.5899],\n",
       "        [ 8.0215],\n",
       "        [10.7607],\n",
       "        [ 5.9487],\n",
       "        [ 8.2469],\n",
       "        [11.3220],\n",
       "        [11.2101],\n",
       "        [11.4912],\n",
       "        [ 4.3703]], grad_fn=<AddmmBackward>)"
      ]
     },
     "execution_count": 79,
     "metadata": {},
     "output_type": "execute_result"
    }
   ],
   "source": [
    "\n"
   ]
  },
  {
   "cell_type": "code",
   "execution_count": null,
   "metadata": {},
   "outputs": [],
   "source": []
  }
 ],
 "metadata": {
  "kernelspec": {
   "display_name": "Python 3",
   "language": "python",
   "name": "python3"
  },
  "language_info": {
   "codemirror_mode": {
    "name": "ipython",
    "version": 3
   },
   "file_extension": ".py",
   "mimetype": "text/x-python",
   "name": "python",
   "nbconvert_exporter": "python",
   "pygments_lexer": "ipython3",
   "version": "3.6.7"
  }
 },
 "nbformat": 4,
 "nbformat_minor": 2
}
